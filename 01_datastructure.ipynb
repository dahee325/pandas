{
 "cells": [
  {
   "cell_type": "markdown",
   "id": "5b7b3b76-1784-4257-8cd1-97b6f8150c89",
   "metadata": {},
   "source": [
    "# Series\n",
    "\n",
    "- pandas에서 사용하는 1차원 배열.\n",
    "- index를 사용할 수 있다."
   ]
  },
  {
   "cell_type": "code",
   "execution_count": 1,
   "id": "1f792c6c-2478-4916-b2a4-4918661bf7b0",
   "metadata": {},
   "outputs": [],
   "source": [
    "import pandas as pd\n",
    "import numpy as np"
   ]
  },
  {
   "cell_type": "code",
   "execution_count": 4,
   "id": "875800d8-5c34-4e86-a8e8-28707c21beae",
   "metadata": {},
   "outputs": [
    {
     "name": "stdout",
     "output_type": "stream",
     "text": [
      "[100 101 102 103 104 105 106 107 108 109]\n"
     ]
    }
   ],
   "source": [
    "arr = np.arange(100, 110)\n",
    "print(arr)"
   ]
  },
  {
   "cell_type": "code",
   "execution_count": 5,
   "id": "b5708391-c28e-4ccb-95cc-a91cf1d5b952",
   "metadata": {},
   "outputs": [
    {
     "name": "stdout",
     "output_type": "stream",
     "text": [
      "0    100\n",
      "1    101\n",
      "2    102\n",
      "3    103\n",
      "4    104\n",
      "5    105\n",
      "6    106\n",
      "7    107\n",
      "8    108\n",
      "9    109\n",
      "dtype: int64\n"
     ]
    }
   ],
   "source": [
    "s = pd.Series(arr) # pandas안의 Series클래스, 위에서 아래로 데이터를 쌓음, 기본적으로 인덱스 접근을 할 수 있게 만들어줌\n",
    "print(s)"
   ]
  },
  {
   "cell_type": "code",
   "execution_count": 8,
   "id": "44211aac-5fe2-438f-98ba-d20067f6d876",
   "metadata": {},
   "outputs": [
    {
     "name": "stdout",
     "output_type": "stream",
     "text": [
      "0    100.0\n",
      "1    101.0\n",
      "2    102.0\n",
      "3    103.0\n",
      "4    104.0\n",
      "5    105.0\n",
      "6    106.0\n",
      "7    107.0\n",
      "8    108.0\n",
      "9    109.0\n",
      "dtype: float32\n"
     ]
    }
   ],
   "source": [
    "s = pd.Series(arr, dtype='float32')\n",
    "print(s)"
   ]
  },
  {
   "cell_type": "code",
   "execution_count": 9,
   "id": "26e31d22-6d83-4a10-8668-300accd901e3",
   "metadata": {},
   "outputs": [
    {
     "name": "stdout",
     "output_type": "stream",
     "text": [
      "0     kim\n",
      "1     lee\n",
      "2    park\n",
      "dtype: object\n"
     ]
    }
   ],
   "source": [
    "s = pd.Series(['kim', 'lee', 'park']) # pandas에서 stsring은 object라고 부름\n",
    "print(s)"
   ]
  },
  {
   "cell_type": "code",
   "execution_count": 10,
   "id": "6bf80eb6-0385-4f35-83f3-584587937d5c",
   "metadata": {},
   "outputs": [
    {
     "name": "stdout",
     "output_type": "stream",
     "text": [
      "0        1\n",
      "1        2\n",
      "2        3\n",
      "3        1\n",
      "4        2\n",
      "5    hello\n",
      "dtype: object\n"
     ]
    }
   ],
   "source": [
    "s = pd.Series([1, 2, 3, '1', '2', 'hello']) # 데이터는 각각 정수, 문자 이지만 전체 데이터는 넓은 범위의 데이터 형태로 자동으로 형변환\n",
    "print(s)"
   ]
  },
  {
   "cell_type": "code",
   "execution_count": 11,
   "id": "d0774136-64e7-492d-9717-ad53e5bd7ff3",
   "metadata": {},
   "outputs": [
    {
     "data": {
      "text/plain": [
       "'hello'"
      ]
     },
     "execution_count": 11,
     "metadata": {},
     "output_type": "execute_result"
    }
   ],
   "source": [
    "s[5]"
   ]
  },
  {
   "cell_type": "code",
   "execution_count": 13,
   "id": "1f32b045-be96-46af-9fc0-a201c533be8b",
   "metadata": {},
   "outputs": [],
   "source": [
    "# 음수 인덱싱은 적용x, 양수만 가능\n",
    "# s[-1]"
   ]
  },
  {
   "cell_type": "code",
   "execution_count": 15,
   "id": "dfe270d6-5858-4bd8-81c1-91241cc035de",
   "metadata": {},
   "outputs": [
    {
     "data": {
      "text/plain": [
       "RangeIndex(start=0, stop=6, step=1)"
      ]
     },
     "execution_count": 15,
     "metadata": {},
     "output_type": "execute_result"
    }
   ],
   "source": [
    "s.index"
   ]
  },
  {
   "cell_type": "code",
   "execution_count": 17,
   "id": "a00e8f82-1165-485e-8dbc-59976f7539a8",
   "metadata": {},
   "outputs": [],
   "source": [
    "names = pd.Series(['kim', 'lee', 'park'], index=['a', 'b', 'c'])"
   ]
  },
  {
   "cell_type": "code",
   "execution_count": 21,
   "id": "55e29dc1-a001-4295-9159-752997ba3a93",
   "metadata": {},
   "outputs": [
    {
     "data": {
      "text/plain": [
       "'kim'"
      ]
     },
     "execution_count": 21,
     "metadata": {},
     "output_type": "execute_result"
    }
   ],
   "source": [
    "# names[0] # 인덱스를 a,b,c로 지정했지만 0으로 불러와서 출력은 되지만 오류가 생김\n",
    "names.iloc[0] # 인덱스를 설정했지만 숫자로 접근하기 위한 함수 .ilc() - indexlocation"
   ]
  },
  {
   "cell_type": "code",
   "execution_count": 19,
   "id": "bc0be5bd-0dbb-4af0-b748-8b52e95c05dc",
   "metadata": {},
   "outputs": [
    {
     "data": {
      "text/plain": [
       "'kim'"
      ]
     },
     "execution_count": 19,
     "metadata": {},
     "output_type": "execute_result"
    }
   ],
   "source": [
    "names['a']"
   ]
  },
  {
   "cell_type": "code",
   "execution_count": 20,
   "id": "48ac467d-beb9-480c-8bd8-68c22d428428",
   "metadata": {},
   "outputs": [
    {
     "data": {
      "text/plain": [
       "Index(['a', 'b', 'c'], dtype='object')"
      ]
     },
     "execution_count": 20,
     "metadata": {},
     "output_type": "execute_result"
    }
   ],
   "source": [
    "names.index # 인덱스 이름"
   ]
  },
  {
   "cell_type": "code",
   "execution_count": 23,
   "id": "ae6e323c-5648-415b-944f-8441c7a9c936",
   "metadata": {},
   "outputs": [
    {
     "data": {
      "text/plain": [
       "array(['kim', 'lee', 'park'], dtype=object)"
      ]
     },
     "execution_count": 23,
     "metadata": {},
     "output_type": "execute_result"
    }
   ],
   "source": [
    "names.values # 값"
   ]
  },
  {
   "cell_type": "code",
   "execution_count": 24,
   "id": "3e14a35b-f6f0-44fd-9aa8-c8fa0d4f561b",
   "metadata": {},
   "outputs": [
    {
     "data": {
      "text/plain": [
       "1"
      ]
     },
     "execution_count": 24,
     "metadata": {},
     "output_type": "execute_result"
    }
   ],
   "source": [
    "names.ndim # 차원"
   ]
  },
  {
   "cell_type": "code",
   "execution_count": 25,
   "id": "fdeda46c-c90a-48b7-9422-16c29a80eb72",
   "metadata": {},
   "outputs": [
    {
     "data": {
      "text/plain": [
       "(3,)"
      ]
     },
     "execution_count": 25,
     "metadata": {},
     "output_type": "execute_result"
    }
   ],
   "source": [
    "names.shape"
   ]
  },
  {
   "cell_type": "markdown",
   "id": "5687cf35-eefe-4d4f-9b53-944947409837",
   "metadata": {},
   "source": [
    "## NaN(Not a Number)"
   ]
  },
  {
   "cell_type": "code",
   "execution_count": 26,
   "id": "7b4534fa-bca7-4452-a2af-0632eb6b20d3",
   "metadata": {},
   "outputs": [
    {
     "name": "stdout",
     "output_type": "stream",
     "text": [
      "0    1.0\n",
      "1    2.0\n",
      "2    3.0\n",
      "3    NaN\n",
      "dtype: float64\n"
     ]
    }
   ],
   "source": [
    "s = pd.Series([1, 2, 3, np.nan])\n",
    "print(s)"
   ]
  },
  {
   "cell_type": "markdown",
   "id": "f99b6a3a-a550-4d92-bd1d-b89941233cfe",
   "metadata": {},
   "source": [
    "## fancy indexing"
   ]
  },
  {
   "cell_type": "code",
   "execution_count": 28,
   "id": "577aa46b-507e-4301-b143-05fe322701db",
   "metadata": {},
   "outputs": [
    {
     "name": "stdout",
     "output_type": "stream",
     "text": [
      "a    banana\n",
      "b     apple\n",
      "c     grape\n",
      "d       NaN\n",
      "dtype: object\n"
     ]
    }
   ],
   "source": [
    "f = ['banana', 'apple', 'grape', np.nan]\n",
    "s = pd.Series(f, index=list('abcd'))\n",
    "print(s)"
   ]
  },
  {
   "cell_type": "code",
   "execution_count": 30,
   "id": "441af93f-b70a-4115-ac1a-04a9e6cceb0f",
   "metadata": {},
   "outputs": [
    {
     "data": {
      "text/plain": [
       "d       NaN\n",
       "a    banana\n",
       "dtype: object"
      ]
     },
     "execution_count": 30,
     "metadata": {},
     "output_type": "execute_result"
    }
   ],
   "source": [
    "s[['d', 'a']]"
   ]
  },
  {
   "cell_type": "code",
   "execution_count": 33,
   "id": "60b4cf56-6c79-4aaa-988b-de3aa59088ec",
   "metadata": {},
   "outputs": [
    {
     "data": {
      "text/plain": [
       "d      NaN\n",
       "b    apple\n",
       "dtype: object"
      ]
     },
     "execution_count": 33,
     "metadata": {},
     "output_type": "execute_result"
    }
   ],
   "source": [
    "# s[[3, 1]] # 오류\n",
    "s.iloc[[3, 1]]"
   ]
  },
  {
   "cell_type": "markdown",
   "id": "d7ad5d45-135f-45bd-a646-c3f40ac06692",
   "metadata": {},
   "source": [
    "## bool indexing"
   ]
  },
  {
   "cell_type": "code",
   "execution_count": 34,
   "id": "fb05d89e-d706-4595-a48a-b83aaeab0b6e",
   "metadata": {},
   "outputs": [
    {
     "data": {
      "text/plain": [
       "a    banana\n",
       "b     apple\n",
       "c     grape\n",
       "d       NaN\n",
       "dtype: object"
      ]
     },
     "execution_count": 34,
     "metadata": {},
     "output_type": "execute_result"
    }
   ],
   "source": [
    "s"
   ]
  },
  {
   "cell_type": "code",
   "execution_count": 36,
   "id": "d3825f3f-34f1-4658-9706-2a09feb8c7ff",
   "metadata": {},
   "outputs": [
    {
     "data": {
      "text/plain": [
       "a    banana\n",
       "c     grape\n",
       "dtype: object"
      ]
     },
     "execution_count": 36,
     "metadata": {},
     "output_type": "execute_result"
    }
   ],
   "source": [
    "s[[True, False, True, False]]"
   ]
  },
  {
   "cell_type": "code",
   "execution_count": 37,
   "id": "38753eb3-3594-4683-88ed-d6a408610d10",
   "metadata": {},
   "outputs": [
    {
     "data": {
      "text/plain": [
       "a     True\n",
       "b    False\n",
       "c    False\n",
       "d    False\n",
       "dtype: bool"
      ]
     },
     "execution_count": 37,
     "metadata": {},
     "output_type": "execute_result"
    }
   ],
   "source": [
    "s == 'banana' # s안의 값이 'banana'면 True"
   ]
  },
  {
   "cell_type": "code",
   "execution_count": 38,
   "id": "5b0eedc7-b769-4660-80a4-8fd073013a19",
   "metadata": {},
   "outputs": [
    {
     "data": {
      "text/plain": [
       "a    banana\n",
       "dtype: object"
      ]
     },
     "execution_count": 38,
     "metadata": {},
     "output_type": "execute_result"
    }
   ],
   "source": [
    "s[s == 'banana']"
   ]
  },
  {
   "cell_type": "code",
   "execution_count": 40,
   "id": "a98caad6-4d52-458c-be5e-924dd845d87c",
   "metadata": {},
   "outputs": [
    {
     "data": {
      "text/plain": [
       "3    4\n",
       "4    5\n",
       "5    6\n",
       "dtype: int64"
      ]
     },
     "execution_count": 40,
     "metadata": {},
     "output_type": "execute_result"
    }
   ],
   "source": [
    "s = pd.Series([1, 2, 3, 4, 5, 6])\n",
    "s[s > 3]"
   ]
  },
  {
   "cell_type": "markdown",
   "id": "67ca7bb2-c73a-4eb2-ae7b-addd2f875a43",
   "metadata": {},
   "source": [
    "## 결측치(NaN) 처리"
   ]
  },
  {
   "cell_type": "code",
   "execution_count": 41,
   "id": "7a5896f1-ee08-432c-aa3c-b47361ed049e",
   "metadata": {},
   "outputs": [
    {
     "name": "stdout",
     "output_type": "stream",
     "text": [
      "0     1.0\n",
      "1     3.0\n",
      "2     NaN\n",
      "3    10.0\n",
      "4    11.0\n",
      "5     NaN\n",
      "dtype: float64\n"
     ]
    }
   ],
   "source": [
    "s = pd.Series([1, 3, np.nan, 10, 11, np.nan])\n",
    "print(s)"
   ]
  },
  {
   "cell_type": "code",
   "execution_count": 46,
   "id": "8152d582-bff6-484b-9b54-df9e2d3bdf5b",
   "metadata": {},
   "outputs": [
    {
     "data": {
      "text/plain": [
       "0    False\n",
       "1    False\n",
       "2     True\n",
       "3    False\n",
       "4    False\n",
       "5     True\n",
       "dtype: bool"
      ]
     },
     "execution_count": 46,
     "metadata": {},
     "output_type": "execute_result"
    }
   ],
   "source": [
    "# s.isnull() # 값이 NaN이면 True\n",
    "s.isna() # isnull()과 같은 의미의 코드"
   ]
  },
  {
   "cell_type": "code",
   "execution_count": 47,
   "id": "6b587822-fab4-4727-8ca3-887adafd5972",
   "metadata": {},
   "outputs": [
    {
     "data": {
      "text/plain": [
       "2   NaN\n",
       "5   NaN\n",
       "dtype: float64"
      ]
     },
     "execution_count": 47,
     "metadata": {},
     "output_type": "execute_result"
    }
   ],
   "source": [
    "# s[s.isnull()] # NaN값만 출력\n",
    "s[s.isna()]"
   ]
  },
  {
   "cell_type": "code",
   "execution_count": 48,
   "id": "8dba6f94-e2e4-4969-85dd-a9c8b64af1b7",
   "metadata": {},
   "outputs": [
    {
     "data": {
      "text/plain": [
       "0     1.0\n",
       "1     3.0\n",
       "3    10.0\n",
       "4    11.0\n",
       "dtype: float64"
      ]
     },
     "execution_count": 48,
     "metadata": {},
     "output_type": "execute_result"
    }
   ],
   "source": [
    "# s[s.notnull()] # NaN이 아닌 값만 출력\n",
    "s[s.notna()]"
   ]
  },
  {
   "cell_type": "markdown",
   "id": "587ce213-0267-430e-af56-627a1e97b9b7",
   "metadata": {},
   "source": [
    "## slicing"
   ]
  },
  {
   "cell_type": "code",
   "execution_count": 51,
   "id": "3884b387-0289-4132-b0c9-7a8fdcd0d280",
   "metadata": {},
   "outputs": [
    {
     "data": {
      "text/plain": [
       "1    3.0\n",
       "2    NaN\n",
       "dtype: float64"
      ]
     },
     "execution_count": 51,
     "metadata": {},
     "output_type": "execute_result"
    }
   ],
   "source": [
    "s[1:3]"
   ]
  },
  {
   "cell_type": "code",
   "execution_count": 55,
   "id": "d1ca02da-eb75-4a25-8a53-68023ae32f17",
   "metadata": {},
   "outputs": [
    {
     "data": {
      "text/plain": [
       "a    1\n",
       "b    2\n",
       "dtype: int64"
      ]
     },
     "execution_count": 55,
     "metadata": {},
     "output_type": "execute_result"
    }
   ],
   "source": [
    "s = pd.Series([1, 2, 3], index=list('abc'))\n",
    "s[1:2]\n",
    "s['a':'b']"
   ]
  },
  {
   "cell_type": "markdown",
   "id": "63717433-bdde-45ef-afb3-76c4c286e07d",
   "metadata": {},
   "source": [
    "# Dataframe\n",
    "- 2차원 데이터 구조(excel, sheet 와 유사)\n",
    "- 행(row), 열(column) 구조"
   ]
  },
  {
   "cell_type": "code",
   "execution_count": 57,
   "id": "77dce0cb-86c3-4347-aed6-9a4443e3e02f",
   "metadata": {},
   "outputs": [
    {
     "data": {
      "text/html": [
       "<div>\n",
       "<style scoped>\n",
       "    .dataframe tbody tr th:only-of-type {\n",
       "        vertical-align: middle;\n",
       "    }\n",
       "\n",
       "    .dataframe tbody tr th {\n",
       "        vertical-align: top;\n",
       "    }\n",
       "\n",
       "    .dataframe thead th {\n",
       "        text-align: right;\n",
       "    }\n",
       "</style>\n",
       "<table border=\"1\" class=\"dataframe\">\n",
       "  <thead>\n",
       "    <tr style=\"text-align: right;\">\n",
       "      <th></th>\n",
       "      <th>0</th>\n",
       "      <th>1</th>\n",
       "      <th>2</th>\n",
       "    </tr>\n",
       "  </thead>\n",
       "  <tbody>\n",
       "    <tr>\n",
       "      <th>0</th>\n",
       "      <td>1</td>\n",
       "      <td>2</td>\n",
       "      <td>3</td>\n",
       "    </tr>\n",
       "    <tr>\n",
       "      <th>1</th>\n",
       "      <td>4</td>\n",
       "      <td>5</td>\n",
       "      <td>6</td>\n",
       "    </tr>\n",
       "    <tr>\n",
       "      <th>2</th>\n",
       "      <td>7</td>\n",
       "      <td>8</td>\n",
       "      <td>9</td>\n",
       "    </tr>\n",
       "  </tbody>\n",
       "</table>\n",
       "</div>"
      ],
      "text/plain": [
       "   0  1  2\n",
       "0  1  2  3\n",
       "1  4  5  6\n",
       "2  7  8  9"
      ]
     },
     "execution_count": 57,
     "metadata": {},
     "output_type": "execute_result"
    }
   ],
   "source": [
    "d = pd.DataFrame([\n",
    "    [1, 2, 3],\n",
    "    [4, 5, 6],\n",
    "    [7, 8, 9]\n",
    "])\n",
    "d"
   ]
  },
  {
   "cell_type": "code",
   "execution_count": 59,
   "id": "eeacae09-d0ce-4f83-b3f7-72dd81d4b657",
   "metadata": {},
   "outputs": [
    {
     "data": {
      "text/html": [
       "<div>\n",
       "<style scoped>\n",
       "    .dataframe tbody tr th:only-of-type {\n",
       "        vertical-align: middle;\n",
       "    }\n",
       "\n",
       "    .dataframe tbody tr th {\n",
       "        vertical-align: top;\n",
       "    }\n",
       "\n",
       "    .dataframe thead th {\n",
       "        text-align: right;\n",
       "    }\n",
       "</style>\n",
       "<table border=\"1\" class=\"dataframe\">\n",
       "  <thead>\n",
       "    <tr style=\"text-align: right;\">\n",
       "      <th></th>\n",
       "      <th>가</th>\n",
       "      <th>나</th>\n",
       "      <th>다</th>\n",
       "    </tr>\n",
       "  </thead>\n",
       "  <tbody>\n",
       "    <tr>\n",
       "      <th>0</th>\n",
       "      <td>1</td>\n",
       "      <td>2</td>\n",
       "      <td>3</td>\n",
       "    </tr>\n",
       "    <tr>\n",
       "      <th>1</th>\n",
       "      <td>4</td>\n",
       "      <td>5</td>\n",
       "      <td>6</td>\n",
       "    </tr>\n",
       "    <tr>\n",
       "      <th>2</th>\n",
       "      <td>7</td>\n",
       "      <td>8</td>\n",
       "      <td>9</td>\n",
       "    </tr>\n",
       "  </tbody>\n",
       "</table>\n",
       "</div>"
      ],
      "text/plain": [
       "   가  나  다\n",
       "0  1  2  3\n",
       "1  4  5  6\n",
       "2  7  8  9"
      ]
     },
     "execution_count": 59,
     "metadata": {},
     "output_type": "execute_result"
    }
   ],
   "source": [
    "d = pd.DataFrame([\n",
    "    [1, 2, 3],\n",
    "    [4, 5, 6],\n",
    "    [7, 8, 9]\n",
    "], columns=['가', '나', '다'])\n",
    "d"
   ]
  },
  {
   "cell_type": "code",
   "execution_count": 60,
   "id": "a25f381f-9ba9-41f6-b153-95f6c47831aa",
   "metadata": {},
   "outputs": [],
   "source": [
    "info = {\n",
    "    'name': ['kim', 'lee', 'park'],\n",
    "    'age': [10, 20, 30]\n",
    "}"
   ]
  },
  {
   "cell_type": "code",
   "execution_count": 62,
   "id": "a937f82c-08d2-4af6-ac35-070ebef24f24",
   "metadata": {},
   "outputs": [],
   "source": [
    "info_df = pd.DataFrame(info) # 데이터의 길이가 맞지 않으면 맞지 않은 데이터 부분은 날아감"
   ]
  },
  {
   "cell_type": "code",
   "execution_count": 63,
   "id": "8fc7ba3c-6d7b-463c-9567-326466151786",
   "metadata": {},
   "outputs": [
    {
     "data": {
      "text/plain": [
       "RangeIndex(start=0, stop=3, step=1)"
      ]
     },
     "execution_count": 63,
     "metadata": {},
     "output_type": "execute_result"
    }
   ],
   "source": [
    "info_df.index"
   ]
  },
  {
   "cell_type": "code",
   "execution_count": 64,
   "id": "ea98e1f4-b4bd-4905-9c20-5b6409c36ffe",
   "metadata": {},
   "outputs": [
    {
     "data": {
      "text/plain": [
       "Index(['name', 'age'], dtype='object')"
      ]
     },
     "execution_count": 64,
     "metadata": {},
     "output_type": "execute_result"
    }
   ],
   "source": [
    "info_df.columns"
   ]
  },
  {
   "cell_type": "code",
   "execution_count": 65,
   "id": "bdde7234-a780-4c09-afc3-d97119509b0e",
   "metadata": {},
   "outputs": [
    {
     "data": {
      "text/plain": [
       "array([['kim', 10],\n",
       "       ['lee', 20],\n",
       "       ['park', 30]], dtype=object)"
      ]
     },
     "execution_count": 65,
     "metadata": {},
     "output_type": "execute_result"
    }
   ],
   "source": [
    "info_df.values"
   ]
  },
  {
   "cell_type": "code",
   "execution_count": 66,
   "id": "69557ac6-c1e4-4f20-8a44-0362aa4db4b3",
   "metadata": {},
   "outputs": [
    {
     "data": {
      "text/plain": [
       "name    object\n",
       "age      int64\n",
       "dtype: object"
      ]
     },
     "execution_count": 66,
     "metadata": {},
     "output_type": "execute_result"
    }
   ],
   "source": [
    "info_df.dtypes"
   ]
  },
  {
   "cell_type": "code",
   "execution_count": 68,
   "id": "62a8de66-b3c8-42b8-a62a-6436457b4dde",
   "metadata": {},
   "outputs": [
    {
     "data": {
      "text/html": [
       "<div>\n",
       "<style scoped>\n",
       "    .dataframe tbody tr th:only-of-type {\n",
       "        vertical-align: middle;\n",
       "    }\n",
       "\n",
       "    .dataframe tbody tr th {\n",
       "        vertical-align: top;\n",
       "    }\n",
       "\n",
       "    .dataframe thead th {\n",
       "        text-align: right;\n",
       "    }\n",
       "</style>\n",
       "<table border=\"1\" class=\"dataframe\">\n",
       "  <thead>\n",
       "    <tr style=\"text-align: right;\">\n",
       "      <th></th>\n",
       "      <th>0</th>\n",
       "      <th>1</th>\n",
       "      <th>2</th>\n",
       "    </tr>\n",
       "  </thead>\n",
       "  <tbody>\n",
       "    <tr>\n",
       "      <th>name</th>\n",
       "      <td>kim</td>\n",
       "      <td>lee</td>\n",
       "      <td>park</td>\n",
       "    </tr>\n",
       "    <tr>\n",
       "      <th>age</th>\n",
       "      <td>10</td>\n",
       "      <td>20</td>\n",
       "      <td>30</td>\n",
       "    </tr>\n",
       "  </tbody>\n",
       "</table>\n",
       "</div>"
      ],
      "text/plain": [
       "        0    1     2\n",
       "name  kim  lee  park\n",
       "age    10   20    30"
      ]
     },
     "execution_count": 68,
     "metadata": {},
     "output_type": "execute_result"
    }
   ],
   "source": [
    "info_df.T"
   ]
  },
  {
   "cell_type": "markdown",
   "id": "108206f9-1ad7-44a6-aca0-5a1d2d18bce0",
   "metadata": {},
   "source": [
    "## index 지정"
   ]
  },
  {
   "cell_type": "code",
   "execution_count": 70,
   "id": "1779d068-d01e-4c42-9367-3dfdcc7d2914",
   "metadata": {},
   "outputs": [],
   "source": [
    "info_df.index = list('abc') # 숫자로 하는게 일반적"
   ]
  },
  {
   "cell_type": "code",
   "execution_count": 71,
   "id": "cbd161bb-fe0f-4cf2-848e-4d6e954ba19e",
   "metadata": {},
   "outputs": [
    {
     "data": {
      "text/html": [
       "<div>\n",
       "<style scoped>\n",
       "    .dataframe tbody tr th:only-of-type {\n",
       "        vertical-align: middle;\n",
       "    }\n",
       "\n",
       "    .dataframe tbody tr th {\n",
       "        vertical-align: top;\n",
       "    }\n",
       "\n",
       "    .dataframe thead th {\n",
       "        text-align: right;\n",
       "    }\n",
       "</style>\n",
       "<table border=\"1\" class=\"dataframe\">\n",
       "  <thead>\n",
       "    <tr style=\"text-align: right;\">\n",
       "      <th></th>\n",
       "      <th>name</th>\n",
       "      <th>age</th>\n",
       "    </tr>\n",
       "  </thead>\n",
       "  <tbody>\n",
       "    <tr>\n",
       "      <th>a</th>\n",
       "      <td>kim</td>\n",
       "      <td>10</td>\n",
       "    </tr>\n",
       "    <tr>\n",
       "      <th>b</th>\n",
       "      <td>lee</td>\n",
       "      <td>20</td>\n",
       "    </tr>\n",
       "    <tr>\n",
       "      <th>c</th>\n",
       "      <td>park</td>\n",
       "      <td>30</td>\n",
       "    </tr>\n",
       "  </tbody>\n",
       "</table>\n",
       "</div>"
      ],
      "text/plain": [
       "   name  age\n",
       "a   kim   10\n",
       "b   lee   20\n",
       "c  park   30"
      ]
     },
     "execution_count": 71,
     "metadata": {},
     "output_type": "execute_result"
    }
   ],
   "source": [
    "info_df"
   ]
  },
  {
   "cell_type": "markdown",
   "id": "3cf14825-b25e-4145-b4c1-435187712872",
   "metadata": {},
   "source": [
    "## column 다루기"
   ]
  },
  {
   "cell_type": "code",
   "execution_count": 73,
   "id": "45455570-139e-4c10-ba08-93426b5d883a",
   "metadata": {},
   "outputs": [
    {
     "data": {
      "text/plain": [
       "Index(['name', 'age'], dtype='object')"
      ]
     },
     "execution_count": 73,
     "metadata": {},
     "output_type": "execute_result"
    }
   ],
   "source": [
    "info_df.columns"
   ]
  },
  {
   "cell_type": "code",
   "execution_count": 76,
   "id": "d45ebb38-b830-45b9-b5bc-5b1b9c36cb17",
   "metadata": {},
   "outputs": [
    {
     "name": "stdout",
     "output_type": "stream",
     "text": [
      "a     kim\n",
      "b     lee\n",
      "c    park\n",
      "Name: name, dtype: object\n",
      "<class 'pandas.core.series.Series'>\n"
     ]
    }
   ],
   "source": [
    "print(info_df['name'])\n",
    "print(type(info_df['name'])) # 하나의 열을 출력하면 그 결과의 유형은 Series"
   ]
  },
  {
   "cell_type": "code",
   "execution_count": 77,
   "id": "f37646ed-e5e9-4038-bb3e-21554ea9d2f9",
   "metadata": {},
   "outputs": [
    {
     "data": {
      "text/html": [
       "<div>\n",
       "<style scoped>\n",
       "    .dataframe tbody tr th:only-of-type {\n",
       "        vertical-align: middle;\n",
       "    }\n",
       "\n",
       "    .dataframe tbody tr th {\n",
       "        vertical-align: top;\n",
       "    }\n",
       "\n",
       "    .dataframe thead th {\n",
       "        text-align: right;\n",
       "    }\n",
       "</style>\n",
       "<table border=\"1\" class=\"dataframe\">\n",
       "  <thead>\n",
       "    <tr style=\"text-align: right;\">\n",
       "      <th></th>\n",
       "      <th>age</th>\n",
       "      <th>name</th>\n",
       "    </tr>\n",
       "  </thead>\n",
       "  <tbody>\n",
       "    <tr>\n",
       "      <th>a</th>\n",
       "      <td>10</td>\n",
       "      <td>kim</td>\n",
       "    </tr>\n",
       "    <tr>\n",
       "      <th>b</th>\n",
       "      <td>20</td>\n",
       "      <td>lee</td>\n",
       "    </tr>\n",
       "    <tr>\n",
       "      <th>c</th>\n",
       "      <td>30</td>\n",
       "      <td>park</td>\n",
       "    </tr>\n",
       "  </tbody>\n",
       "</table>\n",
       "</div>"
      ],
      "text/plain": [
       "   age  name\n",
       "a   10   kim\n",
       "b   20   lee\n",
       "c   30  park"
      ]
     },
     "execution_count": 77,
     "metadata": {},
     "output_type": "execute_result"
    }
   ],
   "source": [
    "info_df[['age', 'name']] # column의 fancy indexing"
   ]
  },
  {
   "cell_type": "code",
   "execution_count": 84,
   "id": "3702e489-a482-4679-8abd-960c63af5352",
   "metadata": {},
   "outputs": [],
   "source": [
    "info_df = info_df.rename(columns={'name': '이름'}) # 원본데이터는 바꾸지 않으므로 재할당 해야함"
   ]
  },
  {
   "cell_type": "code",
   "execution_count": 85,
   "id": "39aa7405-57d6-4c76-b281-87ac164eb318",
   "metadata": {},
   "outputs": [
    {
     "data": {
      "text/html": [
       "<div>\n",
       "<style scoped>\n",
       "    .dataframe tbody tr th:only-of-type {\n",
       "        vertical-align: middle;\n",
       "    }\n",
       "\n",
       "    .dataframe tbody tr th {\n",
       "        vertical-align: top;\n",
       "    }\n",
       "\n",
       "    .dataframe thead th {\n",
       "        text-align: right;\n",
       "    }\n",
       "</style>\n",
       "<table border=\"1\" class=\"dataframe\">\n",
       "  <thead>\n",
       "    <tr style=\"text-align: right;\">\n",
       "      <th></th>\n",
       "      <th>이름</th>\n",
       "      <th>age</th>\n",
       "    </tr>\n",
       "  </thead>\n",
       "  <tbody>\n",
       "    <tr>\n",
       "      <th>a</th>\n",
       "      <td>kim</td>\n",
       "      <td>10</td>\n",
       "    </tr>\n",
       "    <tr>\n",
       "      <th>b</th>\n",
       "      <td>lee</td>\n",
       "      <td>20</td>\n",
       "    </tr>\n",
       "    <tr>\n",
       "      <th>c</th>\n",
       "      <td>park</td>\n",
       "      <td>30</td>\n",
       "    </tr>\n",
       "  </tbody>\n",
       "</table>\n",
       "</div>"
      ],
      "text/plain": [
       "     이름  age\n",
       "a   kim   10\n",
       "b   lee   20\n",
       "c  park   30"
      ]
     },
     "execution_count": 85,
     "metadata": {},
     "output_type": "execute_result"
    }
   ],
   "source": [
    "info_df"
   ]
  },
  {
   "cell_type": "code",
   "execution_count": 87,
   "id": "8e88f35b-790d-4cf0-acdc-6969ac71f12c",
   "metadata": {},
   "outputs": [],
   "source": [
    "info_df.rename(columns={'이름': 'last_name'}, inplace=True) # 옵션으로 inplace=True를 지정하면 info_df의 원본 데이터도 바뀜"
   ]
  },
  {
   "cell_type": "code",
   "execution_count": 88,
   "id": "7f2c887c-cd6d-4c9e-9ab1-90dcaba77a51",
   "metadata": {},
   "outputs": [
    {
     "data": {
      "text/html": [
       "<div>\n",
       "<style scoped>\n",
       "    .dataframe tbody tr th:only-of-type {\n",
       "        vertical-align: middle;\n",
       "    }\n",
       "\n",
       "    .dataframe tbody tr th {\n",
       "        vertical-align: top;\n",
       "    }\n",
       "\n",
       "    .dataframe thead th {\n",
       "        text-align: right;\n",
       "    }\n",
       "</style>\n",
       "<table border=\"1\" class=\"dataframe\">\n",
       "  <thead>\n",
       "    <tr style=\"text-align: right;\">\n",
       "      <th></th>\n",
       "      <th>last_name</th>\n",
       "      <th>age</th>\n",
       "    </tr>\n",
       "  </thead>\n",
       "  <tbody>\n",
       "    <tr>\n",
       "      <th>a</th>\n",
       "      <td>kim</td>\n",
       "      <td>10</td>\n",
       "    </tr>\n",
       "    <tr>\n",
       "      <th>b</th>\n",
       "      <td>lee</td>\n",
       "      <td>20</td>\n",
       "    </tr>\n",
       "    <tr>\n",
       "      <th>c</th>\n",
       "      <td>park</td>\n",
       "      <td>30</td>\n",
       "    </tr>\n",
       "  </tbody>\n",
       "</table>\n",
       "</div>"
      ],
      "text/plain": [
       "  last_name  age\n",
       "a       kim   10\n",
       "b       lee   20\n",
       "c      park   30"
      ]
     },
     "execution_count": 88,
     "metadata": {},
     "output_type": "execute_result"
    }
   ],
   "source": [
    "info_df"
   ]
  }
 ],
 "metadata": {
  "kernelspec": {
   "display_name": "Python 3 (ipykernel)",
   "language": "python",
   "name": "python3"
  },
  "language_info": {
   "codemirror_mode": {
    "name": "ipython",
    "version": 3
   },
   "file_extension": ".py",
   "mimetype": "text/x-python",
   "name": "python",
   "nbconvert_exporter": "python",
   "pygments_lexer": "ipython3",
   "version": "3.13.2"
  }
 },
 "nbformat": 4,
 "nbformat_minor": 5
}

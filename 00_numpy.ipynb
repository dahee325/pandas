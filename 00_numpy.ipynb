{
 "cells": [
  {
   "cell_type": "code",
   "execution_count": 1,
   "id": "176c80d9-368b-4339-a1dd-652b02c85a51",
   "metadata": {},
   "outputs": [],
   "source": [
    "import numpy as np # import 라이브러리 불러오는 명령어\n",
    "\n",
    "my_list = list(range(1000000))\n",
    "my_array = np.arange(1000000)"
   ]
  },
  {
   "cell_type": "code",
   "execution_count": 2,
   "id": "9e43d980-abee-4600-b93b-eaa15cae5eff",
   "metadata": {},
   "outputs": [
    {
     "name": "stdout",
     "output_type": "stream",
     "text": [
      "64.1 ms ± 6.86 ms per loop (mean ± std. dev. of 7 runs, 10 loops each)\n",
      "3.18 ms ± 365 μs per loop (mean ± std. dev. of 7 runs, 100 loops each)\n"
     ]
    }
   ],
   "source": [
    "%timeit my_list2 = [i * 2 for i in my_list] # %timeit : 얼만큼 시간이 걸리는지 측정\n",
    "%timeit my_array2 = my_array * 2"
   ]
  },
  {
   "cell_type": "code",
   "execution_count": 3,
   "id": "611181ad-9997-4feb-9c2f-55d75e54761d",
   "metadata": {},
   "outputs": [
    {
     "name": "stdout",
     "output_type": "stream",
     "text": [
      "[[   1.     1.2    3. ]\n",
      " [-123.   123.     0. ]]\n"
     ]
    }
   ],
   "source": [
    "a = [\n",
    "    [1, 1.2, 3],\n",
    "    [-123, 123, 0]\n",
    "]\n",
    "data = np.array(a) # 각각 아이템으로 곱셈 연산\n",
    "print(data)"
   ]
  },
  {
   "cell_type": "code",
   "execution_count": 4,
   "id": "42e93e7b-5c98-4b66-93d0-b2caa4505f34",
   "metadata": {},
   "outputs": [
    {
     "name": "stdout",
     "output_type": "stream",
     "text": [
      "[[   10.    12.    30.]\n",
      " [-1230.  1230.     0.]]\n",
      "[[   2.     2.4    6. ]\n",
      " [-246.   246.     0. ]]\n"
     ]
    }
   ],
   "source": [
    "# 0차원 : 스칼라(scala), 1차원 : 벡터(vector), 2차원 : 행렬(matrix), 3차원이상: 텐서(tenser)\n",
    "print(data * 10)\n",
    "print(data + data)"
   ]
  },
  {
   "cell_type": "code",
   "execution_count": 6,
   "id": "d9c6bf33-4343-4921-91bc-bde16c570b36",
   "metadata": {},
   "outputs": [
    {
     "name": "stdout",
     "output_type": "stream",
     "text": [
      "(2, 3)\n",
      "float64\n"
     ]
    }
   ],
   "source": [
    "print(data.shape) # 가로(가장 큰 단위의 배열의 개수), 세로(그 배열 속 배열의 개수)의 길이\n",
    "print(data.dtype) # 안에 있는 데이터의 세부데이터"
   ]
  },
  {
   "cell_type": "code",
   "execution_count": 10,
   "id": "4edc092d-4207-44ac-840d-2073fd4c0aea",
   "metadata": {},
   "outputs": [
    {
     "name": "stdout",
     "output_type": "stream",
     "text": [
      "(2, 3)\n"
     ]
    }
   ],
   "source": [
    "ab = [[[1, 2, 3], [2, 3, 4], [1.2, 3, 0]], [-123, 123, 0]]\n",
    "abc = np.array(ab, dtype=object) # 불균일한 데이터 형식(가로와 세로의 길이가 다른 데이터)으로 변환 시 옵션으로 dtype=object를 넣어야함, 밑에 또 나옴\n",
    "print(abc.shape)"
   ]
  },
  {
   "cell_type": "markdown",
   "id": "ce839a6f-36f0-4365-ae6f-d291639dac7a",
   "metadata": {},
   "source": [
    "# ndarray 생성하기"
   ]
  },
  {
   "cell_type": "code",
   "execution_count": 12,
   "id": "758b265b-f5f1-4eed-b6a0-18dfd235bf17",
   "metadata": {},
   "outputs": [
    {
     "name": "stdout",
     "output_type": "stream",
     "text": [
      "[1 2 3 4 5]\n",
      "<class 'numpy.ndarray'>\n"
     ]
    }
   ],
   "source": [
    "data1 = [1, 2, 3, 4, 5] # 리스트에 데이터를 담고\n",
    "arr1 = np.array(data1) # np.array \n",
    "print(arr1)\n",
    "print(type(arr1))"
   ]
  },
  {
   "cell_type": "code",
   "execution_count": 2,
   "id": "59829dbe-098b-44cc-b33c-5aefda4b1e23",
   "metadata": {},
   "outputs": [
    {
     "name": "stdout",
     "output_type": "stream",
     "text": [
      "[[1.1 2.2]\n",
      " [3.3 4.4]]\n",
      "<class 'numpy.ndarray'>\n"
     ]
    }
   ],
   "source": [
    "arr2 = np.array([[1.1, 2.2], [3.3, 4.4]])\n",
    "print(arr2)\n",
    "print(type(arr2))"
   ]
  },
  {
   "cell_type": "code",
   "execution_count": 3,
   "id": "d9e0f99c-de26-4ae1-92e9-f18bfbfec412",
   "metadata": {},
   "outputs": [
    {
     "data": {
      "text/plain": [
       "2"
      ]
     },
     "execution_count": 3,
     "metadata": {},
     "output_type": "execute_result"
    }
   ],
   "source": [
    "# 배열의 차원 수를 알려줌\n",
    "print(arr1.ndim) # 1차원\n",
    "print(arr2.ndim) # 2차원"
   ]
  },
  {
   "cell_type": "code",
   "execution_count": 4,
   "id": "fd4405d2-ebca-484f-8d6c-1ce8c5289b5c",
   "metadata": {},
   "outputs": [
    {
     "data": {
      "text/plain": [
       "(2, 2)"
      ]
     },
     "execution_count": 4,
     "metadata": {},
     "output_type": "execute_result"
    }
   ],
   "source": [
    "# print(arr1.shape)\n",
    "arr2.shape"
   ]
  },
  {
   "cell_type": "code",
   "execution_count": 9,
   "id": "7056d78d-3836-40f9-b59f-35987b090901",
   "metadata": {},
   "outputs": [
    {
     "data": {
      "text/plain": [
       "array([[0., 0., 0., 0., 0.],\n",
       "       [0., 0., 0., 0., 0.],\n",
       "       [0., 0., 0., 0., 0.],\n",
       "       [0., 0., 0., 0., 0.],\n",
       "       [0., 0., 0., 0., 0.]])"
      ]
     },
     "execution_count": 9,
     "metadata": {},
     "output_type": "execute_result"
    }
   ],
   "source": [
    "# print(type(np.zeros(10))) # 데이터는 모르지만 배열의 규격 정함\n",
    "# print([0] * 10) # 위와 같은 코드라 생각\n",
    "np.zeros((5, 5)) # np.zeros안에 튜플()을 넣음\n",
    "# print(np.empty((2, 2, 2))) # zeros와 같다고 생각"
   ]
  },
  {
   "cell_type": "code",
   "execution_count": 5,
   "id": "f8cf47d4-beaf-4f10-b268-b96b04b33182",
   "metadata": {},
   "outputs": [
    {
     "data": {
      "text/plain": [
       "array([0, 1, 2, 3, 4, 5, 6, 7, 8, 9])"
      ]
     },
     "execution_count": 5,
     "metadata": {},
     "output_type": "execute_result"
    }
   ],
   "source": [
    "np.arange(10) # 0부터 9까지의 순서가 있는 배열을 만들어줌"
   ]
  },
  {
   "cell_type": "markdown",
   "id": "659e18c4-a80d-471c-865b-9ec569b7482c",
   "metadata": {},
   "source": [
    "## ndarray 자료형"
   ]
  },
  {
   "cell_type": "code",
   "execution_count": 24,
   "id": "41d803b7-2c16-412d-896f-934292960d40",
   "metadata": {},
   "outputs": [
    {
     "name": "stdout",
     "output_type": "stream",
     "text": [
      "float64\n",
      "int32\n"
     ]
    }
   ],
   "source": [
    "arr1 = np.array([1, 2, 3], dtype=np.float64) # 직접 데이터유형을 바꿈\n",
    "arr2 = np.array([1, 2, 3], dtype=np.int32)\n",
    "\n",
    "print(arr1.dtype)\n",
    "print(arr2.dtype)"
   ]
  },
  {
   "cell_type": "code",
   "execution_count": 26,
   "id": "9aa04aee-0382-47e5-9f83-65cd333e52c1",
   "metadata": {},
   "outputs": [
    {
     "name": "stdout",
     "output_type": "stream",
     "text": [
      "int64\n",
      "[1. 2. 3.]\n",
      "float64\n"
     ]
    }
   ],
   "source": [
    "arr1 = np.array([1, 2, 3])\n",
    "print(arr1.dtype)\n",
    "float_arr1 = arr1.astype(np.float64) # 형변환 함수\n",
    "print(float_arr1)\n",
    "print(float_arr1.dtype)"
   ]
  },
  {
   "cell_type": "code",
   "execution_count": 28,
   "id": "7613e3ad-2e42-4846-9fa4-0c16c33a3b11",
   "metadata": {},
   "outputs": [
    {
     "name": "stdout",
     "output_type": "stream",
     "text": [
      "float64\n",
      "[1 2 3]\n",
      "int64\n"
     ]
    }
   ],
   "source": [
    "arr2 = np.array([1.1, 2.2, 3.3])\n",
    "print(arr2.dtype)\n",
    "int_arr2 = arr2.astype(np.int64)\n",
    "print(int_arr2)\n",
    "print(int_arr2.dtype) # 소수를 정수로 형변환 할 때 소수점은 버림처리"
   ]
  },
  {
   "cell_type": "markdown",
   "id": "3304c733-b6dc-4abb-b52c-f53714021b82",
   "metadata": {},
   "source": [
    "## 산술 연산"
   ]
  },
  {
   "cell_type": "code",
   "execution_count": 29,
   "id": "9fcd3489-23a0-4a62-8726-7c69ea83487a",
   "metadata": {},
   "outputs": [
    {
     "name": "stdout",
     "output_type": "stream",
     "text": [
      "[[1 2 3]\n",
      " [4 5 6]]\n"
     ]
    }
   ],
   "source": [
    "arr = np.array([[1, 2, 3], [4, 5, 6]]) # 2*3배열\n",
    "print(arr)"
   ]
  },
  {
   "cell_type": "code",
   "execution_count": 34,
   "id": "9286e561-c83f-45d5-87a5-498d9df67a57",
   "metadata": {},
   "outputs": [
    {
     "name": "stdout",
     "output_type": "stream",
     "text": [
      "[[ 1  4  9]\n",
      " [16 25 36]]\n",
      "[[ 2  4  6]\n",
      " [ 8 10 12]]\n",
      "[[1.         0.5        0.33333333]\n",
      " [0.25       0.2        0.16666667]]\n",
      "[[  1   8  27]\n",
      " [ 64 125 216]]\n",
      "[[0 1 2]\n",
      " [3 4 5]]\n"
     ]
    }
   ],
   "source": [
    "print(arr * arr) # 같은 위치에 있는 값끼리 곱셈\n",
    "print(arr + arr) \n",
    "print(1 / arr)\n",
    "print(arr ** 3) # 모든 데이터들을 세제곱\n",
    "print(arr - 1)"
   ]
  },
  {
   "cell_type": "code",
   "execution_count": 39,
   "id": "e48ae948-c3b9-4d9f-bad1-7442b0525214",
   "metadata": {},
   "outputs": [
    {
     "name": "stdout",
     "output_type": "stream",
     "text": [
      "[[1 2 3]\n",
      " [4 5 6]]\n",
      "[[3 2 1]\n",
      " [1 2 3]]\n",
      "[[False False  True]\n",
      " [ True  True  True]]\n",
      "[[False False  True]\n",
      " [False False False]]\n"
     ]
    }
   ],
   "source": [
    "arr2 = np.array([[3, 2, 1], [1, 2, 3]])\n",
    "print(arr)\n",
    "print(arr2)\n",
    "print(arr > arr2) # 같은 위치에 있는 데이터끼리 비교\n",
    "print(arr == 3) # 데이터가 3인 데이터를 찾음"
   ]
  },
  {
   "cell_type": "markdown",
   "id": "679c4f7b-e6f2-4456-9be8-4b3788226c64",
   "metadata": {},
   "source": [
    "## 색인(indexing)과 슬라이싱(slicing)"
   ]
  },
  {
   "cell_type": "code",
   "execution_count": 10,
   "id": "95b21fdb-f368-43d1-9e97-6e7c436cfdc3",
   "metadata": {},
   "outputs": [
    {
     "name": "stdout",
     "output_type": "stream",
     "text": [
      "[0 1 2 3 4 5 6 7 8 9]\n"
     ]
    }
   ],
   "source": [
    "arr = np.arange(10)\n",
    "print(arr)"
   ]
  },
  {
   "cell_type": "code",
   "execution_count": 11,
   "id": "7288dcc4-b02b-479f-b98d-7a81e6eb2338",
   "metadata": {},
   "outputs": [
    {
     "data": {
      "text/plain": [
       "np.int64(7)"
      ]
     },
     "execution_count": 11,
     "metadata": {},
     "output_type": "execute_result"
    }
   ],
   "source": [
    "arr[7]\n",
    "# print(arr[2:5]) # 2번째 데이터부터 4번째 데이터까지 출력"
   ]
  },
  {
   "cell_type": "code",
   "execution_count": 44,
   "id": "442fa3e1-a360-41f2-85d2-6c3d75eb42ff",
   "metadata": {},
   "outputs": [
    {
     "name": "stdout",
     "output_type": "stream",
     "text": [
      "[ 0  1 10 10 10  5  6  7  8  9]\n"
     ]
    }
   ],
   "source": [
    "arr[2:5] = 10 # 2번째부터 4번째까지 데이터의 값을 10을 변경, 원본도 바뀜\n",
    "print(arr)"
   ]
  },
  {
   "cell_type": "code",
   "execution_count": 12,
   "id": "139a6c02-821a-471a-a156-cfb88d46e741",
   "metadata": {},
   "outputs": [
    {
     "data": {
      "text/plain": [
       "3"
      ]
     },
     "execution_count": 12,
     "metadata": {},
     "output_type": "execute_result"
    }
   ],
   "source": [
    "py_list = [1, 2, 3, 4, 5]\n",
    "py_list[2:3].pop() # 원본을 복제해서 사용했기 때문에 원본은 바뀌지 않음\n",
    "# print(py_list)"
   ]
  },
  {
   "cell_type": "code",
   "execution_count": 47,
   "id": "f39b5272-858e-4375-a705-7d11465d69a3",
   "metadata": {},
   "outputs": [
    {
     "name": "stdout",
     "output_type": "stream",
     "text": [
      "[[1 2 3]\n",
      " [4 5 6]]\n"
     ]
    }
   ],
   "source": [
    "arr = np.array([[1, 2, 3], [4, 5, 6]])\n",
    "print(arr)"
   ]
  },
  {
   "cell_type": "code",
   "execution_count": 50,
   "id": "50c99b69-6ff0-476d-990f-aa1de5f159df",
   "metadata": {},
   "outputs": [
    {
     "name": "stdout",
     "output_type": "stream",
     "text": [
      "5\n",
      "5\n"
     ]
    }
   ],
   "source": [
    "print(arr[1][1])\n",
    "print(arr[1, 1]) # 위와 같음"
   ]
  },
  {
   "cell_type": "code",
   "execution_count": 52,
   "id": "654ce63e-68a1-4813-90a6-095eb223384c",
   "metadata": {},
   "outputs": [],
   "source": [
    "arr3d = np.array([[[1, 2, 3], [4, 5, 6], [7, 8, 9]],\n",
    "                  [[11, 12, 13], [14, 15, 16], [17, 18, 19]],\n",
    "                  [[11, 22, 33], [44, 55, 66], [77, 88, 99]]])"
   ]
  },
  {
   "cell_type": "code",
   "execution_count": 57,
   "id": "2110d82c-fdf2-43ab-8d2b-b2cb25191164",
   "metadata": {},
   "outputs": [
    {
     "name": "stdout",
     "output_type": "stream",
     "text": [
      "22\n",
      "22\n"
     ]
    }
   ],
   "source": [
    "print(arr3d[2][0][1])\n",
    "print(arr3d[2, 0, 1])"
   ]
  },
  {
   "cell_type": "code",
   "execution_count": 65,
   "id": "27a619a2-ce00-4758-850e-054284ec44a6",
   "metadata": {},
   "outputs": [
    {
     "name": "stdout",
     "output_type": "stream",
     "text": [
      "[[[6]\n",
      "  [9]]]\n",
      "[[6]\n",
      " [9]]\n"
     ]
    }
   ],
   "source": [
    "print(arr3d[:1, 1:, 2:])\n",
    "print(arr3d[0, 1:, 2:]) # 인덱싱 접근을 하면 차원 안으로 들어가기 때문에 차원을 유지하지 않고 차원을 줄여줌"
   ]
  },
  {
   "cell_type": "code",
   "execution_count": 66,
   "id": "1c26aaa1-d20c-4df6-ba01-a1e5dc76650a",
   "metadata": {},
   "outputs": [
    {
     "name": "stdout",
     "output_type": "stream",
     "text": [
      "[[[   1    2    3]\n",
      "  [   4    5 9999]\n",
      "  [   7    8 9999]]\n",
      "\n",
      " [[  11   12   13]\n",
      "  [  14   15   16]\n",
      "  [  17   18   19]]\n",
      "\n",
      " [[  11   22   33]\n",
      "  [  44   55   66]\n",
      "  [  77   88   99]]]\n"
     ]
    }
   ],
   "source": [
    "arr3d[0, 1:, 2:] = 9999\n",
    "print(arr3d)"
   ]
  },
  {
   "cell_type": "markdown",
   "id": "2c0d270f-cd39-4e48-aad1-9ca94a29701f",
   "metadata": {},
   "source": [
    "## 불리언 값으로 선택\n",
    "- 불리언 : 참(True)과 거짓(False) 중 하나의 값을 가짐"
   ]
  },
  {
   "cell_type": "code",
   "execution_count": 67,
   "id": "8165adac-26c0-4bae-aea5-b604dc6113c2",
   "metadata": {},
   "outputs": [],
   "source": [
    "names = np.array(['hong', 'kim', 'hong', 'kim'])\n",
    "data = np.array([['math', 60], ['math', 90], ['eng', 70], ['eng', 50]])"
   ]
  },
  {
   "cell_type": "code",
   "execution_count": 68,
   "id": "356ded33-8201-4ee9-a2ea-4b1224bbb186",
   "metadata": {},
   "outputs": [
    {
     "data": {
      "text/plain": [
       "array([ True, False,  True, False])"
      ]
     },
     "execution_count": 68,
     "metadata": {},
     "output_type": "execute_result"
    }
   ],
   "source": [
    "names == 'hong'"
   ]
  },
  {
   "cell_type": "code",
   "execution_count": 70,
   "id": "b20076ae-af50-4b7a-b202-588a05e7065f",
   "metadata": {},
   "outputs": [
    {
     "data": {
      "text/plain": [
       "array([['math', '60'],\n",
       "       ['eng', '70']], dtype='<U21')"
      ]
     },
     "execution_count": 70,
     "metadata": {},
     "output_type": "execute_result"
    }
   ],
   "source": [
    "# 전체 데이터 중에서 내가 취하고싶은(특정 조건에 맞는) 데이터를 고를 때 사용\n",
    "# data[[True, False, True, False]]\n",
    "data[names == 'hong'] # 트루 위치의 값만 출력"
   ]
  },
  {
   "cell_type": "code",
   "execution_count": 73,
   "id": "23c83e80-253c-4f11-8c35-7fdfc69e5537",
   "metadata": {},
   "outputs": [
    {
     "name": "stdout",
     "output_type": "stream",
     "text": [
      "['60' '70']\n",
      "[['math']\n",
      " ['eng']]\n"
     ]
    }
   ],
   "source": [
    "print(data[names == 'hong', 1]) # 인덱스 접근\n",
    "print(data[names == 'hong', :1]) # 슬라이싱"
   ]
  },
  {
   "cell_type": "code",
   "execution_count": 77,
   "id": "325784b1-5a12-425d-9e72-9c8f5a21623e",
   "metadata": {},
   "outputs": [
    {
     "name": "stdout",
     "output_type": "stream",
     "text": [
      "[False  True False  True]\n",
      "[False  True False  True]\n"
     ]
    }
   ],
   "source": [
    "print(names != 'hong') # != 다른가요?\n",
    "print(~(names == 'hong')) # 계산결과를 역 취해줌"
   ]
  },
  {
   "cell_type": "code",
   "execution_count": 78,
   "id": "53bc26f8-eb5b-498c-a360-7f0281da888e",
   "metadata": {},
   "outputs": [
    {
     "data": {
      "text/plain": [
       "array([['math', '90'],\n",
       "       ['eng', '50']], dtype='<U21')"
      ]
     },
     "execution_count": 78,
     "metadata": {},
     "output_type": "execute_result"
    }
   ],
   "source": [
    "cond = names == 'kim'\n",
    "data[cond]"
   ]
  },
  {
   "cell_type": "markdown",
   "id": "d5dfc044-97eb-462c-a2cb-b39d4301eeb2",
   "metadata": {},
   "source": [
    "## 팬시 색인(fancy indexing)"
   ]
  },
  {
   "cell_type": "code",
   "execution_count": 83,
   "id": "52ef96cc-a571-4af2-a120-34f94f80f8ac",
   "metadata": {},
   "outputs": [
    {
     "name": "stdout",
     "output_type": "stream",
     "text": [
      "[[0. 0. 0. 0.]\n",
      " [1. 1. 1. 1.]\n",
      " [2. 2. 2. 2.]\n",
      " [3. 3. 3. 3.]\n",
      " [4. 4. 4. 4.]\n",
      " [5. 5. 5. 5.]\n",
      " [6. 6. 6. 6.]\n",
      " [7. 7. 7. 7.]]\n"
     ]
    }
   ],
   "source": [
    "arr = np.zeros((8, 4)) # 8*4\n",
    "for i in range(8):\n",
    "    arr[i] = i\n",
    "print(arr)"
   ]
  },
  {
   "cell_type": "code",
   "execution_count": 85,
   "id": "f0243e03-c073-44ca-9aa6-c6014ec9ec7c",
   "metadata": {},
   "outputs": [
    {
     "data": {
      "text/plain": [
       "array([[4., 4., 4., 4.],\n",
       "       [3., 3., 3., 3.],\n",
       "       [0., 0., 0., 0.],\n",
       "       [5., 5., 5., 5.]])"
      ]
     },
     "execution_count": 85,
     "metadata": {},
     "output_type": "execute_result"
    }
   ],
   "source": [
    "arr[[4, 3, 0, 5]] # [](인덱싱)안에 [](리스트)를 넣으면 원하는 행을 직접적으로 선택하여 출력, 순서도 지정한대로 출력"
   ]
  },
  {
   "cell_type": "code",
   "execution_count": 86,
   "id": "37ec43a8-f702-42d7-8b84-644c60397168",
   "metadata": {},
   "outputs": [
    {
     "data": {
      "text/plain": [
       "array([[5., 5., 5., 5.],\n",
       "       [3., 3., 3., 3.],\n",
       "       [7., 7., 7., 7.]])"
      ]
     },
     "execution_count": 86,
     "metadata": {},
     "output_type": "execute_result"
    }
   ],
   "source": [
    "arr[[-3, -5, -1]]"
   ]
  },
  {
   "cell_type": "code",
   "execution_count": 91,
   "id": "12785f21-49e3-41ed-845f-af1c68815d16",
   "metadata": {},
   "outputs": [
    {
     "name": "stdout",
     "output_type": "stream",
     "text": [
      "[[ 0  1  2  3]\n",
      " [ 4  5  6  7]\n",
      " [ 8  9 10 11]\n",
      " [12 13 14 15]\n",
      " [16 17 18 19]\n",
      " [20 21 22 23]\n",
      " [24 25 26 27]\n",
      " [28 29 30 31]]\n"
     ]
    }
   ],
   "source": [
    "arr = np.arange(32).reshape(8, 4) # 가지고 있는 행렬의 가로세로를 변경할 떄 사용\n",
    "# print(arr)"
   ]
  },
  {
   "cell_type": "code",
   "execution_count": 96,
   "id": "eafd9808-a127-45ac-9cfb-a79ecda06ea8",
   "metadata": {},
   "outputs": [
    {
     "name": "stdout",
     "output_type": "stream",
     "text": [
      "[[ 4  5  6  7]\n",
      " [20 21 22 23]]\n",
      "[ 6 23]\n",
      "[[ 6  7]\n",
      " [22 23]]\n"
     ]
    }
   ],
   "source": [
    "print(arr[[1, 5]])\n",
    "print(arr[[1, 5], [2, 3]])\n",
    "print(arr[[1, 5]][:, [2, 3]])"
   ]
  },
  {
   "cell_type": "markdown",
   "id": "8b8bb41d-e5d4-4dc8-bcd1-5089de354506",
   "metadata": {},
   "source": [
    "## 배열 전치"
   ]
  },
  {
   "cell_type": "code",
   "execution_count": 97,
   "id": "f4fd5f72-51f5-4309-b890-53bc58667d02",
   "metadata": {},
   "outputs": [
    {
     "name": "stdout",
     "output_type": "stream",
     "text": [
      "[[ 0  1  2  3  4]\n",
      " [ 5  6  7  8  9]\n",
      " [10 11 12 13 14]]\n"
     ]
    }
   ],
   "source": [
    "arr = np.arange(15).reshape(3, 5)\n",
    "print(arr)"
   ]
  },
  {
   "cell_type": "code",
   "execution_count": 98,
   "id": "19508cd6-98c8-4d6d-b00b-f79db756d14e",
   "metadata": {},
   "outputs": [
    {
     "name": "stdout",
     "output_type": "stream",
     "text": [
      "[[ 0  5 10]\n",
      " [ 1  6 11]\n",
      " [ 2  7 12]\n",
      " [ 3  8 13]\n",
      " [ 4  9 14]]\n"
     ]
    }
   ],
   "source": [
    "print(arr.T) # 행과 열을 바꿈, 대각선을 기준으로 대칭되어 바뀜"
   ]
  },
  {
   "cell_type": "code",
   "execution_count": 101,
   "id": "40e0e8e9-ea7c-467d-ad3a-b85d8a481afa",
   "metadata": {},
   "outputs": [
    {
     "name": "stdout",
     "output_type": "stream",
     "text": [
      "[[ 30  80 130]\n",
      " [ 80 255 430]\n",
      " [130 430 730]]\n",
      "[[ 30  80 130]\n",
      " [ 80 255 430]\n",
      " [130 430 730]]\n"
     ]
    }
   ],
   "source": [
    "# 행렬의 내적, 행렬의 곱 : @ 또는 np.dot사용\n",
    "print(arr @ arr.T)\n",
    "print(np.dot(arr, arr.T))"
   ]
  },
  {
   "cell_type": "markdown",
   "id": "d96ca691-4eb5-4a5e-b84c-01e95fca53a5",
   "metadata": {},
   "source": [
    "## numpy 함수"
   ]
  },
  {
   "cell_type": "code",
   "execution_count": 10,
   "id": "4aa3ad9c-c45d-4610-9abf-e40331c5dbc4",
   "metadata": {},
   "outputs": [
    {
     "name": "stdout",
     "output_type": "stream",
     "text": [
      "[[-0.9996621  -0.43533094 -0.27068402]\n",
      " [ 0.49346028  0.05255746 -1.3617273 ]\n",
      " [ 0.44418469 -0.1028652  -0.36184846]]\n"
     ]
    }
   ],
   "source": [
    "samples = np.random.standard_normal(size=(3, 3)) # 랜덤하게 배열을 만들 때 \n",
    "# samples = np.random.randn(3, 3)\n",
    "print(samples)"
   ]
  },
  {
   "cell_type": "code",
   "execution_count": 11,
   "id": "c348b8a5-b72e-40cd-b7af-57cc495253a5",
   "metadata": {},
   "outputs": [
    {
     "name": "stdout",
     "output_type": "stream",
     "text": [
      "[[       nan        nan        nan]\n",
      " [0.70246728 0.22925415        nan]\n",
      " [0.66647182        nan        nan]]\n"
     ]
    },
    {
     "name": "stderr",
     "output_type": "stream",
     "text": [
      "C:\\Users\\1-13\\AppData\\Local\\Temp\\ipykernel_10860\\3462938717.py:1: RuntimeWarning: invalid value encountered in sqrt\n",
      "  arr1 = np.sqrt(samples) # nan(not a number) : 숫자가 아님, none이랑 비슷\n"
     ]
    }
   ],
   "source": [
    "arr1 = np.sqrt(samples) # nan(not a number) : 숫자가 아님, none이랑 비슷\n",
    "print(arr1)"
   ]
  },
  {
   "cell_type": "code",
   "execution_count": 12,
   "id": "4b8cdb6d-041d-4e8a-95f7-0c5c0a1765c3",
   "metadata": {},
   "outputs": [
    {
     "name": "stdout",
     "output_type": "stream",
     "text": [
      "[[0.9996621  0.43533094 0.27068402]\n",
      " [0.49346028 0.05255746 1.3617273 ]\n",
      " [0.44418469 0.1028652  0.36184846]]\n"
     ]
    }
   ],
   "source": [
    "arr2 = np.abs(samples)\n",
    "print(arr2)"
   ]
  },
  {
   "cell_type": "code",
   "execution_count": 106,
   "id": "ec31a69a-0579-440b-b376-ddf62898dc7c",
   "metadata": {},
   "outputs": [
    {
     "data": {
      "text/plain": [
       "array([[False,  True, False],\n",
       "       [False,  True, False],\n",
       "       [False, False, False]])"
      ]
     },
     "execution_count": 106,
     "metadata": {},
     "output_type": "execute_result"
    }
   ],
   "source": [
    "np.isnan(arr1) # 배열안에 nan인 값이 있나요?"
   ]
  }
 ],
 "metadata": {
  "kernelspec": {
   "display_name": "Python 3 (ipykernel)",
   "language": "python",
   "name": "python3"
  },
  "language_info": {
   "codemirror_mode": {
    "name": "ipython",
    "version": 3
   },
   "file_extension": ".py",
   "mimetype": "text/x-python",
   "name": "python",
   "nbconvert_exporter": "python",
   "pygments_lexer": "ipython3",
   "version": "3.13.2"
  }
 },
 "nbformat": 4,
 "nbformat_minor": 5
}
